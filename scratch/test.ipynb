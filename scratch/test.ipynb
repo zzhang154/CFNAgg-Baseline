{
 "cells": [
  {
   "cell_type": "code",
   "execution_count": 1,
   "id": "6685ec01",
   "metadata": {},
   "outputs": [
    {
     "name": "stdout",
     "output_type": "stream",
     "text": [
      "LD_LIBRARY_PATH is set to: /home/dd/tcp-agg/ns-allinone-3.42/ns-3.42/build/lib:/home/dd/ns-3-quic-agg-zhuoxu/ns-allinone-3.42/ns-3.42/build/lib\n"
     ]
    }
   ],
   "source": [
    "%%bash\n",
    "cd ..\n",
    "\n",
    "# Get the current working directory\n",
    "CURRENT_DIR=$(pwd)\n",
    "\n",
    "# Set the LD_LIBRARY_PATH environment variable\n",
    "export LD_LIBRARY_PATH=$CURRENT_DIR/build/lib:$LD_LIBRARY_PATH\n",
    "\n",
    "# Print the LD_LIBRARY_PATH for verification\n",
    "echo \"LD_LIBRARY_PATH is set to: $LD_LIBRARY_PATH\"\n",
    "\n",
    "./waf --run scratch/tcp-bulk-send 2>&1 | sed -r \"s/\\x1B\\[[0-9;]*[mK]//g\" > scratch/tcp-bulk-send.log"
   ]
  },
  {
   "cell_type": "code",
   "execution_count": 3,
   "id": "fe5c7b10",
   "metadata": {},
   "outputs": [
    {
     "name": "stdout",
     "output_type": "stream",
     "text": [
      "LD_LIBRARY_PATH is set to: /home/dd/tcp-agg/ns-allinone-3.42/ns-3.42/build/lib:/home/dd/ns-3-quic-agg-zhuoxu/ns-allinone-3.42/ns-3.42/build/lib\n"
     ]
    }
   ],
   "source": [
    "%%bash                                  \n",
    "cd ..\n",
    "\n",
    "# Get the current working directory\n",
    "CURRENT_DIR=$(pwd)\n",
    "\n",
    "# Set the LD_LIBRARY_PATH environment variable\n",
    "export LD_LIBRARY_PATH=$CURRENT_DIR/build/lib:$LD_LIBRARY_PATH\n",
    "\n",
    "# Print the LD_LIBRARY_PATH for verification\n",
    "echo \"LD_LIBRARY_PATH is set to: $LD_LIBRARY_PATH\"\n",
    "\n",
    "# ./ns3 clean 2>&1 | sed -r \"s/\\x1B\\[[0-9;]*[mK]//g\" > scratch/agg-reno-100.log\n",
    "# ./ns3 configure --disable-werror 2>&1 | sed -r \"s/\\x1B\\[[0-9;]*[mK]//g\" >> scratch/agg-reno-100.log\n",
    "./ns3 run scratch/innetwork-test.cc -- --vsize=200 --topotype=1  2>&1 | sed -r \"s/\\x1B\\[[0-9;]*[mK]//g\" > log/tcp-testing.log\n",
    "#./ns3 run scratch/innetwork-test.cc -- --vsize=3000 --topotype=1 2>&1 | sed -r \"s/\\x1B\\[[0-9;]*[mK]//g\" > scratch/agg-reno-100.log\n",
    "#./ns3 run scratch/tcp-test.cc  2>&1 | sed -r \"s/\\x1B\\[[0-9;]*[mK]//g\" > scratch/tcp-test.log"
   ]
  },
  {
   "cell_type": "code",
   "execution_count": 2,
   "id": "24824f32",
   "metadata": {},
   "outputs": [
    {
     "name": "stdout",
     "output_type": "stream",
     "text": [
      "LD_LIBRARY_PATH is set to: /home/dd/tcp-agg/ns-allinone-3.42/ns-3.42/build/lib:/home/dd/ns-3-quic-agg-zhuoxu/ns-allinone-3.42/ns-3.42/build/lib\n"
     ]
    }
   ],
   "source": [
    "%%bash\n",
    "cd ..\n",
    "./ns3 clean 2>&1 | sed -r \"s/\\x1B\\[[0-9;]*[mK]//g\" > log/ns3-clean-config.log\n",
    "./ns3 configure --disable-werror 2>&1 | sed -r \"s/\\x1B\\[[0-9;]*[mK]//g\" >> log/ns3-clean-config.log\n",
    "./ns3 build 2>&1 | sed -r \"s/\\x1B\\[[0-9;]*[mK]//g\" > log/ns3-build.log\n",
    "\n",
    "# Get the current working directory\n",
    "CURRENT_DIR=$(pwd)\n",
    "\n",
    "# Set the LD_LIBRARY_PATH environment variable\n",
    "export LD_LIBRARY_PATH=$CURRENT_DIR/build/lib:$LD_LIBRARY_PATH\n",
    "\n",
    "# Print the LD_LIBRARY_PATH for verification\n",
    "echo \"LD_LIBRARY_PATH is set to: $LD_LIBRARY_PATH\"\n",
    "\n",
    "# ./ns3 clean 2>&1 | sed -r \"s/\\x1B\\[[0-9;]*[mK]//g\" > scratch/agg-reno-100.log\n",
    "# ./ns3 configure --disable-werror 2>&1 | sed -r \"s/\\x1B\\[[0-9;]*[mK]//g\" >> scratch/agg-reno-100.log\n",
    "./ns3 run scratch/innetwork-test.cc -- --vsize=200 --topotype=1  2>&1 | sed -r \"s/\\x1B\\[[0-9;]*[mK]//g\" > log/tcp-testing.log"
   ]
  },
  {
   "cell_type": "code",
   "execution_count": 1,
   "id": "20a6bfdd",
   "metadata": {},
   "outputs": [],
   "source": [
    "%%bash\n",
    "cd ..\n",
    "./ns3 clean 2>&1 | sed -r \"s/\\x1B\\[[0-9;]*[mK]//g\" > log/ns3-clean-config.log\n",
    "./ns3 configure --disable-werror 2>&1 | sed -r \"s/\\x1B\\[[0-9;]*[mK]//g\" >> log/ns3-clean-config.log\n",
    "./ns3 build 2>&1 | sed -r \"s/\\x1B\\[[0-9;]*[mK]//g\" > log/ns3-build.log\n",
    "# just for project re-build."
   ]
  }
 ],
 "metadata": {
  "kernelspec": {
   "display_name": "Python 3",
   "language": "python",
   "name": "python3"
  },
  "language_info": {
   "codemirror_mode": {
    "name": "ipython",
    "version": 3
   },
   "file_extension": ".py",
   "mimetype": "text/x-python",
   "name": "python",
   "nbconvert_exporter": "python",
   "pygments_lexer": "ipython3",
   "version": "3.10.12"
  }
 },
 "nbformat": 4,
 "nbformat_minor": 5
}
